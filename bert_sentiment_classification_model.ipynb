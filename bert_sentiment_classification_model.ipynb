{
  "cells": [
    {
      "cell_type": "markdown",
      "source": [
        "# Scoping du projet"
      ],
      "metadata": {
        "id": "ml808zYlkaeX"
      }
    },
    {
      "cell_type": "markdown",
      "source": [
        "Ce projet vise à révolutionner la manière dont nous interagissons avec la parole en développant un modèle de Reconnaissance Automatique de la Parole (ASR) avancé et en y ajoutant une couche d'Analyse de Sentiment pour extraire des informations émotionnelles précieuses à partir des transcriptions générées. Cette approche marie la technologie de traitement automatique de la parole à l'intelligence émotionnelle, offrant un large éventail d'applications potentielles.\n",
        "\n",
        "En somme, le projet consiste à développer un modèle de Reconnaissance Automatique de la Parole (ASR), puis effectuer une Analyse de Sentiment sur la transcription générée par le modèle ASR.\n",
        "\n",
        "La première partie du projet se concentrera sur la mise en place du modèle ASR. Nous avons utilisé un modèle français sur le Hub de Huggingface en inférence pour transcrire des enregistrements audio en texte.\n",
        "\n",
        "Dans la deuxième partie du projet, nous avons d'abord fine-tuné un modèle de classification BERT (positif ou négatif ) entrainé sur le jeu de données : https://www.kaggle.com/datasets/djilax/allocine-french-movie-reviews.\n",
        "Ensuite, nous avons effectué une analyse de sentiment sur la transcription générée du modèle ASR.\n",
        "\n",
        "1. **Objectif du projet** :\n",
        "   - L'objectif principal est de construire un modèle de Reconnaissance Automatique de la Parole (ASR), puis effectuer une Analyse de Sentiment sur la transcription générée par le modèle ASR.\n",
        "\n",
        "2. **Tâche** :\n",
        "   - modèle d'ASR : utiliser un modèle français sur le Hub de Huggingface en inférence pour transcrire des enregistrements audio en texte.\n",
        "   - modèle de classification : fine-tuner un modèle de classification BERT (positif ou négatif ) entrainé sur le jeu de données : https://www.kaggle.com/datasets/djilax/allocine-french-movie-reviews.\n",
        "\n",
        "3. **Métriques d'évaluation** :\n",
        "   - Les métriques d'évaluation appropriées pour cette tâche pourraient inclure la précision, le rappel, la F1-score, et la matrice de confusion.\n",
        "\n",
        "4. **Collecte et préparation des données** :\n",
        "   - Prétraitement : Nettoyer le texte en retirant les caractères spéciaux, en normalisant la casse, etc.\n",
        "   - Diviser le jeu de données en ensembles d'entraînement, de validation et de test.\n",
        "\n",
        "5. **Architecture du modèle** :\n",
        "   - pour l'ASR, nous allons utiliser un modèle français en inférence sur le Hub de Huggingface.\n",
        "   - Pour l'analyse de sentiment, nous allons fine-tuner un modèle de classification BERT entrainé sur notre jeu de données.\n",
        "\n",
        "6. **Entraînement et évaluation du modèle** :\n",
        "   - Entraînez le modèle sur l'ensemble d'entraînement et ajustez les hyperparamètres pour optimiser les performances.\n",
        "   - Évaluez le modèle sur l'ensemble de validation pour surveiller le surapprentissage et ajuster les paramètres en conséquence.\n",
        "\n",
        "7. **Tests finaux** :\n",
        "   - Évaluez le modèle final sur l'ensemble de test pour obtenir une évaluation impartiale de ses performances.\n",
        "\n",
        "8. **Communication des résultats** :\n",
        "   - Présentez les performances du modèle à l'aide de métriques appropriées dans un rapport ou une présentation.\n",
        "\n",
        "9. **Itérations** :\n",
        "   - En fonction des performances du modèle, effectuez des itérations pour ajuster les hyperparamètres, essayer différentes architectures et améliorer les résultats."
      ],
      "metadata": {
        "id": "LOwpBge1sYdp"
      }
    },
    {
      "cell_type": "markdown",
      "source": [
        "# Data"
      ],
      "metadata": {
        "id": "NWLouatrtmui"
      }
    },
    {
      "cell_type": "code",
      "source": [
        "import pandas as pd"
      ],
      "metadata": {
        "id": "ThlB-AjfBksy"
      },
      "execution_count": null,
      "outputs": []
    },
    {
      "cell_type": "code",
      "source": [
        "from google.colab import drive\n",
        "drive.mount('/content/drive')"
      ],
      "metadata": {
        "colab": {
          "base_uri": "https://localhost:8080/"
        },
        "id": "yZ2thxyLAJqj",
        "outputId": "d5edfd92-d13f-479a-ccca-dd6a3158cb52"
      },
      "execution_count": null,
      "outputs": [
        {
          "output_type": "stream",
          "name": "stdout",
          "text": [
            "Drive already mounted at /content/drive; to attempt to forcibly remount, call drive.mount(\"/content/drive\", force_remount=True).\n"
          ]
        }
      ]
    },
    {
      "cell_type": "code",
      "source": [
        "# Charger le jeu de données\n",
        "df = pd.read_csv('/content/drive/Othercomputers/Mon ordinateur/DIT MASTER1 2022/MASTER 2/DEEP LEARNING/examen/dataset/train.csv')"
      ],
      "metadata": {
        "id": "Uzm7hLI1ASKO"
      },
      "execution_count": null,
      "outputs": []
    },
    {
      "cell_type": "code",
      "source": [
        "df.head()"
      ],
      "metadata": {
        "colab": {
          "base_uri": "https://localhost:8080/",
          "height": 206
        },
        "id": "eZv2yqWEEWgh",
        "outputId": "416edb47-bad8-4895-c7c0-b886278a7fd9"
      },
      "execution_count": null,
      "outputs": [
        {
          "output_type": "execute_result",
          "data": {
            "text/plain": [
              "   Unnamed: 0                                           film-url  \\\n",
              "0           0  http://www.allocine.fr/film/fichefilm-135259/c...   \n",
              "1           1  http://www.allocine.fr/film/fichefilm-172430/c...   \n",
              "2           2  http://www.allocine.fr/film/fichefilm-15105/cr...   \n",
              "3           3  http://www.allocine.fr/film/fichefilm-188629/c...   \n",
              "4           4  http://www.allocine.fr/film/fichefilm-23514/cr...   \n",
              "\n",
              "                                              review  polarity  \n",
              "0  Si vous cherchez du cinéma abrutissant à tous ...         0  \n",
              "1  Trash, re-trash et re-re-trash...! Une horreur...         0  \n",
              "2  Et si, dans les 5 premières minutes du film, l...         0  \n",
              "3  Mon dieu ! Quelle métaphore filée ! Je suis ab...         0  \n",
              "4  Premier film de la saga Kozure Okami, \"Le Sabr...         1  "
            ],
            "text/html": [
              "\n",
              "  <div id=\"df-ef3a38bb-79c9-4bab-aae4-58600a611504\" class=\"colab-df-container\">\n",
              "    <div>\n",
              "<style scoped>\n",
              "    .dataframe tbody tr th:only-of-type {\n",
              "        vertical-align: middle;\n",
              "    }\n",
              "\n",
              "    .dataframe tbody tr th {\n",
              "        vertical-align: top;\n",
              "    }\n",
              "\n",
              "    .dataframe thead th {\n",
              "        text-align: right;\n",
              "    }\n",
              "</style>\n",
              "<table border=\"1\" class=\"dataframe\">\n",
              "  <thead>\n",
              "    <tr style=\"text-align: right;\">\n",
              "      <th></th>\n",
              "      <th>Unnamed: 0</th>\n",
              "      <th>film-url</th>\n",
              "      <th>review</th>\n",
              "      <th>polarity</th>\n",
              "    </tr>\n",
              "  </thead>\n",
              "  <tbody>\n",
              "    <tr>\n",
              "      <th>0</th>\n",
              "      <td>0</td>\n",
              "      <td>http://www.allocine.fr/film/fichefilm-135259/c...</td>\n",
              "      <td>Si vous cherchez du cinéma abrutissant à tous ...</td>\n",
              "      <td>0</td>\n",
              "    </tr>\n",
              "    <tr>\n",
              "      <th>1</th>\n",
              "      <td>1</td>\n",
              "      <td>http://www.allocine.fr/film/fichefilm-172430/c...</td>\n",
              "      <td>Trash, re-trash et re-re-trash...! Une horreur...</td>\n",
              "      <td>0</td>\n",
              "    </tr>\n",
              "    <tr>\n",
              "      <th>2</th>\n",
              "      <td>2</td>\n",
              "      <td>http://www.allocine.fr/film/fichefilm-15105/cr...</td>\n",
              "      <td>Et si, dans les 5 premières minutes du film, l...</td>\n",
              "      <td>0</td>\n",
              "    </tr>\n",
              "    <tr>\n",
              "      <th>3</th>\n",
              "      <td>3</td>\n",
              "      <td>http://www.allocine.fr/film/fichefilm-188629/c...</td>\n",
              "      <td>Mon dieu ! Quelle métaphore filée ! Je suis ab...</td>\n",
              "      <td>0</td>\n",
              "    </tr>\n",
              "    <tr>\n",
              "      <th>4</th>\n",
              "      <td>4</td>\n",
              "      <td>http://www.allocine.fr/film/fichefilm-23514/cr...</td>\n",
              "      <td>Premier film de la saga Kozure Okami, \"Le Sabr...</td>\n",
              "      <td>1</td>\n",
              "    </tr>\n",
              "  </tbody>\n",
              "</table>\n",
              "</div>\n",
              "    <div class=\"colab-df-buttons\">\n",
              "\n",
              "  <div class=\"colab-df-container\">\n",
              "    <button class=\"colab-df-convert\" onclick=\"convertToInteractive('df-ef3a38bb-79c9-4bab-aae4-58600a611504')\"\n",
              "            title=\"Convert this dataframe to an interactive table.\"\n",
              "            style=\"display:none;\">\n",
              "\n",
              "  <svg xmlns=\"http://www.w3.org/2000/svg\" height=\"24px\" viewBox=\"0 -960 960 960\">\n",
              "    <path d=\"M120-120v-720h720v720H120Zm60-500h600v-160H180v160Zm220 220h160v-160H400v160Zm0 220h160v-160H400v160ZM180-400h160v-160H180v160Zm440 0h160v-160H620v160ZM180-180h160v-160H180v160Zm440 0h160v-160H620v160Z\"/>\n",
              "  </svg>\n",
              "    </button>\n",
              "\n",
              "  <style>\n",
              "    .colab-df-container {\n",
              "      display:flex;\n",
              "      gap: 12px;\n",
              "    }\n",
              "\n",
              "    .colab-df-convert {\n",
              "      background-color: #E8F0FE;\n",
              "      border: none;\n",
              "      border-radius: 50%;\n",
              "      cursor: pointer;\n",
              "      display: none;\n",
              "      fill: #1967D2;\n",
              "      height: 32px;\n",
              "      padding: 0 0 0 0;\n",
              "      width: 32px;\n",
              "    }\n",
              "\n",
              "    .colab-df-convert:hover {\n",
              "      background-color: #E2EBFA;\n",
              "      box-shadow: 0px 1px 2px rgba(60, 64, 67, 0.3), 0px 1px 3px 1px rgba(60, 64, 67, 0.15);\n",
              "      fill: #174EA6;\n",
              "    }\n",
              "\n",
              "    .colab-df-buttons div {\n",
              "      margin-bottom: 4px;\n",
              "    }\n",
              "\n",
              "    [theme=dark] .colab-df-convert {\n",
              "      background-color: #3B4455;\n",
              "      fill: #D2E3FC;\n",
              "    }\n",
              "\n",
              "    [theme=dark] .colab-df-convert:hover {\n",
              "      background-color: #434B5C;\n",
              "      box-shadow: 0px 1px 3px 1px rgba(0, 0, 0, 0.15);\n",
              "      filter: drop-shadow(0px 1px 2px rgba(0, 0, 0, 0.3));\n",
              "      fill: #FFFFFF;\n",
              "    }\n",
              "  </style>\n",
              "\n",
              "    <script>\n",
              "      const buttonEl =\n",
              "        document.querySelector('#df-ef3a38bb-79c9-4bab-aae4-58600a611504 button.colab-df-convert');\n",
              "      buttonEl.style.display =\n",
              "        google.colab.kernel.accessAllowed ? 'block' : 'none';\n",
              "\n",
              "      async function convertToInteractive(key) {\n",
              "        const element = document.querySelector('#df-ef3a38bb-79c9-4bab-aae4-58600a611504');\n",
              "        const dataTable =\n",
              "          await google.colab.kernel.invokeFunction('convertToInteractive',\n",
              "                                                    [key], {});\n",
              "        if (!dataTable) return;\n",
              "\n",
              "        const docLinkHtml = 'Like what you see? Visit the ' +\n",
              "          '<a target=\"_blank\" href=https://colab.research.google.com/notebooks/data_table.ipynb>data table notebook</a>'\n",
              "          + ' to learn more about interactive tables.';\n",
              "        element.innerHTML = '';\n",
              "        dataTable['output_type'] = 'display_data';\n",
              "        await google.colab.output.renderOutput(dataTable, element);\n",
              "        const docLink = document.createElement('div');\n",
              "        docLink.innerHTML = docLinkHtml;\n",
              "        element.appendChild(docLink);\n",
              "      }\n",
              "    </script>\n",
              "  </div>\n",
              "\n",
              "\n",
              "<div id=\"df-6143a308-790a-4aeb-adf5-5455509738d6\">\n",
              "  <button class=\"colab-df-quickchart\" onclick=\"quickchart('df-6143a308-790a-4aeb-adf5-5455509738d6')\"\n",
              "            title=\"Suggest charts.\"\n",
              "            style=\"display:none;\">\n",
              "\n",
              "<svg xmlns=\"http://www.w3.org/2000/svg\" height=\"24px\"viewBox=\"0 0 24 24\"\n",
              "     width=\"24px\">\n",
              "    <g>\n",
              "        <path d=\"M19 3H5c-1.1 0-2 .9-2 2v14c0 1.1.9 2 2 2h14c1.1 0 2-.9 2-2V5c0-1.1-.9-2-2-2zM9 17H7v-7h2v7zm4 0h-2V7h2v10zm4 0h-2v-4h2v4z\"/>\n",
              "    </g>\n",
              "</svg>\n",
              "  </button>\n",
              "\n",
              "<style>\n",
              "  .colab-df-quickchart {\n",
              "      --bg-color: #E8F0FE;\n",
              "      --fill-color: #1967D2;\n",
              "      --hover-bg-color: #E2EBFA;\n",
              "      --hover-fill-color: #174EA6;\n",
              "      --disabled-fill-color: #AAA;\n",
              "      --disabled-bg-color: #DDD;\n",
              "  }\n",
              "\n",
              "  [theme=dark] .colab-df-quickchart {\n",
              "      --bg-color: #3B4455;\n",
              "      --fill-color: #D2E3FC;\n",
              "      --hover-bg-color: #434B5C;\n",
              "      --hover-fill-color: #FFFFFF;\n",
              "      --disabled-bg-color: #3B4455;\n",
              "      --disabled-fill-color: #666;\n",
              "  }\n",
              "\n",
              "  .colab-df-quickchart {\n",
              "    background-color: var(--bg-color);\n",
              "    border: none;\n",
              "    border-radius: 50%;\n",
              "    cursor: pointer;\n",
              "    display: none;\n",
              "    fill: var(--fill-color);\n",
              "    height: 32px;\n",
              "    padding: 0;\n",
              "    width: 32px;\n",
              "  }\n",
              "\n",
              "  .colab-df-quickchart:hover {\n",
              "    background-color: var(--hover-bg-color);\n",
              "    box-shadow: 0 1px 2px rgba(60, 64, 67, 0.3), 0 1px 3px 1px rgba(60, 64, 67, 0.15);\n",
              "    fill: var(--button-hover-fill-color);\n",
              "  }\n",
              "\n",
              "  .colab-df-quickchart-complete:disabled,\n",
              "  .colab-df-quickchart-complete:disabled:hover {\n",
              "    background-color: var(--disabled-bg-color);\n",
              "    fill: var(--disabled-fill-color);\n",
              "    box-shadow: none;\n",
              "  }\n",
              "\n",
              "  .colab-df-spinner {\n",
              "    border: 2px solid var(--fill-color);\n",
              "    border-color: transparent;\n",
              "    border-bottom-color: var(--fill-color);\n",
              "    animation:\n",
              "      spin 1s steps(1) infinite;\n",
              "  }\n",
              "\n",
              "  @keyframes spin {\n",
              "    0% {\n",
              "      border-color: transparent;\n",
              "      border-bottom-color: var(--fill-color);\n",
              "      border-left-color: var(--fill-color);\n",
              "    }\n",
              "    20% {\n",
              "      border-color: transparent;\n",
              "      border-left-color: var(--fill-color);\n",
              "      border-top-color: var(--fill-color);\n",
              "    }\n",
              "    30% {\n",
              "      border-color: transparent;\n",
              "      border-left-color: var(--fill-color);\n",
              "      border-top-color: var(--fill-color);\n",
              "      border-right-color: var(--fill-color);\n",
              "    }\n",
              "    40% {\n",
              "      border-color: transparent;\n",
              "      border-right-color: var(--fill-color);\n",
              "      border-top-color: var(--fill-color);\n",
              "    }\n",
              "    60% {\n",
              "      border-color: transparent;\n",
              "      border-right-color: var(--fill-color);\n",
              "    }\n",
              "    80% {\n",
              "      border-color: transparent;\n",
              "      border-right-color: var(--fill-color);\n",
              "      border-bottom-color: var(--fill-color);\n",
              "    }\n",
              "    90% {\n",
              "      border-color: transparent;\n",
              "      border-bottom-color: var(--fill-color);\n",
              "    }\n",
              "  }\n",
              "</style>\n",
              "\n",
              "  <script>\n",
              "    async function quickchart(key) {\n",
              "      const quickchartButtonEl =\n",
              "        document.querySelector('#' + key + ' button');\n",
              "      quickchartButtonEl.disabled = true;  // To prevent multiple clicks.\n",
              "      quickchartButtonEl.classList.add('colab-df-spinner');\n",
              "      try {\n",
              "        const charts = await google.colab.kernel.invokeFunction(\n",
              "            'suggestCharts', [key], {});\n",
              "      } catch (error) {\n",
              "        console.error('Error during call to suggestCharts:', error);\n",
              "      }\n",
              "      quickchartButtonEl.classList.remove('colab-df-spinner');\n",
              "      quickchartButtonEl.classList.add('colab-df-quickchart-complete');\n",
              "    }\n",
              "    (() => {\n",
              "      let quickchartButtonEl =\n",
              "        document.querySelector('#df-6143a308-790a-4aeb-adf5-5455509738d6 button');\n",
              "      quickchartButtonEl.style.display =\n",
              "        google.colab.kernel.accessAllowed ? 'block' : 'none';\n",
              "    })();\n",
              "  </script>\n",
              "</div>\n",
              "    </div>\n",
              "  </div>\n"
            ]
          },
          "metadata": {},
          "execution_count": 27
        }
      ]
    },
    {
      "cell_type": "code",
      "source": [
        "len(df)"
      ],
      "metadata": {
        "colab": {
          "base_uri": "https://localhost:8080/"
        },
        "id": "WYRkg3OjJOZF",
        "outputId": "f5b7b5d3-0e1a-4a25-c548-fc28355fb2d4"
      },
      "execution_count": null,
      "outputs": [
        {
          "output_type": "execute_result",
          "data": {
            "text/plain": [
              "160000"
            ]
          },
          "metadata": {},
          "execution_count": 28
        }
      ]
    },
    {
      "cell_type": "code",
      "source": [
        "# Compter le nombre de labels distincts\n",
        "num_unique_labels = df['polarity'].nunique()\n",
        "print(num_unique_labels)"
      ],
      "metadata": {
        "colab": {
          "base_uri": "https://localhost:8080/"
        },
        "id": "N-hTbvK0Ji4D",
        "outputId": "adbbf266-1c33-4897-8472-6c92f263e528"
      },
      "execution_count": null,
      "outputs": [
        {
          "output_type": "stream",
          "name": "stdout",
          "text": [
            "2\n"
          ]
        }
      ]
    },
    {
      "cell_type": "code",
      "source": [
        "# Afficher les labels distincts\n",
        "unique_labels = df['polarity'].unique()\n",
        "print(f\"Labels distincts : {unique_labels}\")"
      ],
      "metadata": {
        "colab": {
          "base_uri": "https://localhost:8080/"
        },
        "id": "dHDcMgH4J4I9",
        "outputId": "4a0fb1f3-d06c-45ee-f85b-7fcf30ef9ad5"
      },
      "execution_count": null,
      "outputs": [
        {
          "output_type": "stream",
          "name": "stdout",
          "text": [
            "Labels distincts : [0 1]\n"
          ]
        }
      ]
    },
    {
      "cell_type": "markdown",
      "source": [
        "# Modeling"
      ],
      "metadata": {
        "id": "Op--OBHCs-9g"
      }
    },
    {
      "cell_type": "code",
      "execution_count": null,
      "metadata": {
        "id": "ZO0bcql4xR8h"
      },
      "outputs": [],
      "source": [
        "#!pip install transformers\n",
        "#!pip install sentencepiece\n",
        "#!pip install wandb"
      ]
    },
    {
      "cell_type": "code",
      "source": [
        "from transformers import AutoTokenizer, BertModel, AdamW, PreTrainedModel, BertForPreTraining, AutoModelForSequenceClassification\n",
        "import torch\n",
        "import torch.nn as nn\n",
        "from torch.utils.data import Dataset, DataLoader\n",
        "import torch.optim as optim\n",
        "import pandas as pd\n",
        "import torch.nn.functional as F\n",
        "from huggingface_hub import PyTorchModelHubMixin\n",
        "\n",
        "\n",
        "from tqdm import tqdm\n",
        "\n",
        "from sklearn.model_selection import train_test_split\n",
        "\n",
        "import wandb"
      ],
      "metadata": {
        "id": "2SEf4Ou4dflF"
      },
      "execution_count": null,
      "outputs": []
    },
    {
      "cell_type": "code",
      "source": [
        "config = {\n",
        "    \"num_epochs\" : 5,\n",
        "    \"max_length\" : 80,\n",
        "    \"num_classes\" : 2,\n",
        "    \"learning_rate\" : 2e-5,\n",
        "    \"batch_size\" : 100,\n",
        "    \"shuffle\" : True,\n",
        "    \"model_name\" : 'nlptown/bert-base-multilingual-uncased-sentiment',\n",
        "    \"device\" : torch.device('cuda' if torch.cuda.is_available() else 'cpu'),\n",
        "    \"train_file\" : \"/content/drive/Othercomputers/Mon ordinateur/DIT MASTER1 2022/MASTER 2/DEEP LEARNING/examen/dataset/train.csv\",\n",
        "    \"valid_file\" : \"/content/drive/Othercomputers/Mon ordinateur/DIT MASTER1 2022/MASTER 2/DEEP LEARNING/examen/dataset/valid.csv\"\n",
        "}"
      ],
      "metadata": {
        "id": "VZ3gIPPgdoBl"
      },
      "execution_count": null,
      "outputs": []
    },
    {
      "cell_type": "code",
      "source": [
        "class MyDataset(Dataset):\n",
        "    def __init__(self, csv_file, tokenizer, max_length):\n",
        "        self.df = pd.read_csv(csv_file)\n",
        "        self.tokenizer = tokenizer\n",
        "        self.max_length = max_length\n",
        "\n",
        "    def __len__(self):\n",
        "        return len(self.df)\n",
        "\n",
        "    def __getitem__(self, index):\n",
        "\n",
        "        item = self.df.iloc[index]\n",
        "        sentence = item['review']\n",
        "        label = item['polarity']\n",
        "\n",
        "        inputs = self.tokenizer(sentence, max_length=self.max_length, padding='max_length', truncation=True, return_tensors='pt')\n",
        "\n",
        "        return {\n",
        "            \"input_ids\" : inputs['input_ids'],\n",
        "            \"attention_mask\" : inputs['attention_mask'],\n",
        "            \"label\" : torch.tensor(label)\n",
        "        }"
      ],
      "metadata": {
        "id": "-68oRoPgdrJ2"
      },
      "execution_count": null,
      "outputs": []
    },
    {
      "cell_type": "code",
      "source": [
        "# dataloader\n",
        "def dataloader(dataset, batch_size, shuffle):\n",
        "    return DataLoader(dataset=dataset, batch_size= batch_size, shuffle=shuffle)"
      ],
      "metadata": {
        "id": "W3mtCyUpdurK"
      },
      "execution_count": null,
      "outputs": []
    },
    {
      "cell_type": "code",
      "source": [
        "class CustomModel(nn.Module, PyTorchModelHubMixin):\n",
        "    def __init__(self, model_name, num_classes):\n",
        "        super(CustomModel, self).__init__()\n",
        "        self.pretrained_model = BertModel.from_pretrained(model_name) # 768 corresponds to the BERT's output size\n",
        "        self.classifier = nn.Linear(768, num_classes)   # MLP\n",
        "\n",
        "    def forward(self, input_ids, attention_mask):\n",
        "        output = self.pretrained_model(input_ids=input_ids, attention_mask=attention_mask) # (bacth 768)\n",
        "        output = self.classifier(output.last_hidden_state)\n",
        "        return output"
      ],
      "metadata": {
        "id": "BxLiDo-MdxVi"
      },
      "execution_count": null,
      "outputs": []
    },
    {
      "cell_type": "code",
      "source": [
        "# training step\n",
        "def train_step(model, train_loader, optimizer, loss_fn, device, num_classes):\n",
        "    model.train()\n",
        "\n",
        "    total_loss = 0\n",
        "\n",
        "    for data in tqdm(train_loader, total = len(train_loader)):\n",
        "        inputs = data['input_ids'].to(device)\n",
        "        attention_mask = data['attention_mask'].to(device)\n",
        "        targets = data['label'].to(device)\n",
        "\n",
        "        optimizer.zero_grad()\n",
        "        output = model(inputs.squeeze(1), attention_mask)\n",
        "        loss = loss_fn(output, F.one_hot(targets, num_classes))\n",
        "\n",
        "        # backward\n",
        "        loss.backward()\n",
        "        optimizer.step()\n",
        "\n",
        "        total_loss += loss.item()\n",
        "\n",
        "    return  total_loss / len(train_loader)"
      ],
      "metadata": {
        "id": "nb0B5WIId1at"
      },
      "execution_count": null,
      "outputs": []
    },
    {
      "cell_type": "code",
      "source": [
        "def validation_step(model, validation_loader, loss_fn, device, num_classes):\n",
        "    total_loss = 0\n",
        "    correct_prediction = 0\n",
        "\n",
        "    with torch.no_grad():\n",
        "        for data in tqdm(validation_loader, total = len(validation_loader)):\n",
        "            input_ids = data['input_ids'].squeeze(1).to(device)\n",
        "            attention_mask = data['attention_mask'].to(device)\n",
        "            targets = data['label'].to(device)\n",
        "\n",
        "            output = model(input_ids = input_ids, attention_mask = attention_mask)\n",
        "            loss = loss_fn(output, F.one_hot(targets, num_classes))\n",
        "\n",
        "            total_loss += loss.item()\n",
        "\n",
        "            pred = torch.max(torch.softmax(output, dim=1), dim = 1)\n",
        "            correct_prediction += torch.sum(pred.indices==F.one_hot(targets, num_classes))\n",
        "\n",
        "\n",
        "        return  total_loss / len(validation_loader), 100*correct_prediction/len(validation_loader)"
      ],
      "metadata": {
        "id": "M5GXVrIpd6Y6"
      },
      "execution_count": null,
      "outputs": []
    },
    {
      "cell_type": "code",
      "source": [
        "# main\n",
        "def main():\n",
        "    wandb.init('bert-base-sentiment-classification')\n",
        "\n",
        "    tokenizer = AutoTokenizer.from_pretrained(config['model_name'])\n",
        "    # dataset\n",
        "    train_dataset = MyDataset(csv_file=config['train_file'], tokenizer=tokenizer, max_length=config['max_length'])\n",
        "    validation_dataset = MyDataset(csv_file=config['valid_file'], tokenizer=tokenizer, max_length=config['max_length'])\n",
        "\n",
        "    #train_dataset, validation_dataset = train_test_split(dataset, test_size=0.2)\n",
        "\n",
        "    # trainloader\n",
        "    train_loader = dataloader(train_dataset, batch_size=config['batch_size'], shuffle=True)\n",
        "    validation_loader = dataloader(validation_dataset, batch_size=config['batch_size'], shuffle=False)\n",
        "\n",
        "    # model\n",
        "    model = CustomModel(model_name=config['model_name'], num_classes=config['num_classes'])\n",
        "    model.to(config['device'])\n",
        "\n",
        "    loss_fn = nn.CrossEntropyLoss()\n",
        "    optimizer = AdamW(model.parameters(), lr=config['learning_rate'])\n",
        "\n",
        "    for epoch in range(config['num_epochs']):\n",
        "        loss_train = train_step(model, train_loader, optimizer, loss_fn, config['device'], config['num_classes'])\n",
        "        loss_validatiton, accuracy = validation_step(model, validation_loader, loss_fn, config['device'], config['num_classes'])\n",
        "\n",
        "        wandb.log({\n",
        "            \"loss_train\":loss_train,\n",
        "            \"loss_validatiton\":loss_validatiton,\n",
        "            \"accuracy\":accuracy\n",
        "            })\n",
        "    # push model to hub\n",
        "    model.push_to_hub(\"billfass/bert-base-sentiment-classification\")\n",
        "    tokenizer.push_to_hub(\"billfass/bert-base-sentiment-classification\")\n",
        "    model.pretrained_model.config.push_to_hub(\"billfass/bert-base-sentiment-classification\")"
      ],
      "metadata": {
        "id": "he5vo6uQeRCh"
      },
      "execution_count": null,
      "outputs": []
    },
    {
      "cell_type": "code",
      "source": [
        "!git config --global credential.helper store\n",
        "!huggingface-cli login"
      ],
      "metadata": {
        "colab": {
          "base_uri": "https://localhost:8080/"
        },
        "id": "slLPIqQGG3qQ",
        "outputId": "539059a6-824e-49b4-d716-cd923a63924f"
      },
      "execution_count": null,
      "outputs": [
        {
          "output_type": "stream",
          "name": "stdout",
          "text": [
            "\n",
            "    _|    _|  _|    _|    _|_|_|    _|_|_|  _|_|_|  _|      _|    _|_|_|      _|_|_|_|    _|_|      _|_|_|  _|_|_|_|\n",
            "    _|    _|  _|    _|  _|        _|          _|    _|_|    _|  _|            _|        _|    _|  _|        _|\n",
            "    _|_|_|_|  _|    _|  _|  _|_|  _|  _|_|    _|    _|  _|  _|  _|  _|_|      _|_|_|    _|_|_|_|  _|        _|_|_|\n",
            "    _|    _|  _|    _|  _|    _|  _|    _|    _|    _|    _|_|  _|    _|      _|        _|    _|  _|        _|\n",
            "    _|    _|    _|_|      _|_|_|    _|_|_|  _|_|_|  _|      _|    _|_|_|      _|        _|    _|    _|_|_|  _|_|_|_|\n",
            "    \n",
            "    A token is already saved on your machine. Run `huggingface-cli whoami` to get more information or `huggingface-cli logout` if you want to log out.\n",
            "    Setting a new token will erase the existing one.\n",
            "    To login, `huggingface_hub` requires a token generated from https://huggingface.co/settings/tokens .\n",
            "Token: \n",
            "Add token as git credential? (Y/n) Y\n",
            "Token is valid (permission: write).\n",
            "Your token has been saved in your configured git credential helpers (store).\n",
            "Your token has been saved to /root/.cache/huggingface/token\n",
            "Login successful\n"
          ]
        }
      ]
    },
    {
      "cell_type": "code",
      "source": [
        "main()"
      ],
      "metadata": {
        "colab": {
          "base_uri": "https://localhost:8080/",
          "height": 468,
          "referenced_widgets": [
            "f4d0ff707feb48c9b00048f934dd70c5",
            "a79407b456364918bb0989f82add4f8a",
            "76f0cfd4ddde4a8693e45109e63b7ca3",
            "26a3ad63ac2c4ac39acd7db58427a7a2",
            "156a1dcfcc914975aef043bfcaefa012",
            "bac1af424bbe4b28b52dc62a0bc000bf",
            "22cf1956c1c442088f5cd96f0a001e20",
            "7f547a5ded724031baa5ca7b2e45a1a6",
            "36c3593344794544bebfa6be6ec318d2",
            "fa30164d9da24ba0a74bf7eeed636554",
            "e356fcb65a7b45f891d58159cec2b47b"
          ]
        },
        "id": "owcgx2CYeWWX",
        "outputId": "82e367c9-e5f1-410a-f1d7-762ad99298df"
      },
      "execution_count": null,
      "outputs": [
        {
          "output_type": "display_data",
          "data": {
            "text/plain": [
              "<IPython.core.display.HTML object>"
            ],
            "text/html": [
              "Finishing last run (ID:tpidqsvk) before initializing another..."
            ]
          },
          "metadata": {}
        },
        {
          "output_type": "display_data",
          "data": {
            "text/plain": [
              "<IPython.core.display.HTML object>"
            ],
            "text/html": [
              "Waiting for W&B process to finish... <strong style=\"color:green\">(success).</strong>"
            ]
          },
          "metadata": {}
        },
        {
          "output_type": "display_data",
          "data": {
            "text/plain": [
              "<IPython.core.display.HTML object>"
            ],
            "text/html": [
              " View run <strong style=\"color:#cdcd00\">polar-bird-35</strong> at: <a href='https://wandb.ai/utech/uncategorized/runs/tpidqsvk' target=\"_blank\">https://wandb.ai/utech/uncategorized/runs/tpidqsvk</a><br/>Synced 5 W&B file(s), 0 media file(s), 0 artifact file(s) and 0 other file(s)"
            ]
          },
          "metadata": {}
        },
        {
          "output_type": "display_data",
          "data": {
            "text/plain": [
              "<IPython.core.display.HTML object>"
            ],
            "text/html": [
              "Find logs at: <code>./wandb/run-20231013_174003-tpidqsvk/logs</code>"
            ]
          },
          "metadata": {}
        },
        {
          "output_type": "display_data",
          "data": {
            "text/plain": [
              "<IPython.core.display.HTML object>"
            ],
            "text/html": [
              "Successfully finished last run (ID:tpidqsvk). Initializing new run:<br/>"
            ]
          },
          "metadata": {}
        },
        {
          "output_type": "display_data",
          "data": {
            "text/plain": [
              "<IPython.core.display.HTML object>"
            ],
            "text/html": [
              "Tracking run with wandb version 0.15.12"
            ]
          },
          "metadata": {}
        },
        {
          "output_type": "display_data",
          "data": {
            "text/plain": [
              "<IPython.core.display.HTML object>"
            ],
            "text/html": [
              "Run data is saved locally in <code>/content/wandb/run-20231013_175627-bkye15xq</code>"
            ]
          },
          "metadata": {}
        },
        {
          "output_type": "display_data",
          "data": {
            "text/plain": [
              "<IPython.core.display.HTML object>"
            ],
            "text/html": [
              "Syncing run <strong><a href='https://wandb.ai/utech/uncategorized/runs/bkye15xq' target=\"_blank\">legendary-butterfly-36</a></strong> to <a href='https://wandb.ai/utech/uncategorized' target=\"_blank\">Weights & Biases</a> (<a href='https://wandb.me/run' target=\"_blank\">docs</a>)<br/>"
            ]
          },
          "metadata": {}
        },
        {
          "output_type": "display_data",
          "data": {
            "text/plain": [
              "<IPython.core.display.HTML object>"
            ],
            "text/html": [
              " View project at <a href='https://wandb.ai/utech/uncategorized' target=\"_blank\">https://wandb.ai/utech/uncategorized</a>"
            ]
          },
          "metadata": {}
        },
        {
          "output_type": "display_data",
          "data": {
            "text/plain": [
              "<IPython.core.display.HTML object>"
            ],
            "text/html": [
              " View run at <a href='https://wandb.ai/utech/uncategorized/runs/bkye15xq' target=\"_blank\">https://wandb.ai/utech/uncategorized/runs/bkye15xq</a>"
            ]
          },
          "metadata": {}
        },
        {
          "output_type": "stream",
          "name": "stderr",
          "text": [
            "/usr/local/lib/python3.10/dist-packages/transformers/optimization.py:411: FutureWarning: This implementation of AdamW is deprecated and will be removed in a future version. Use the PyTorch implementation torch.optim.AdamW instead, or set `no_deprecation_warning=True` to disable this warning\n",
            "  warnings.warn(\n",
            "100%|██████████| 1600/1600 [12:53<00:00,  2.07it/s]\n",
            "100%|██████████| 200/200 [00:46<00:00,  4.33it/s]\n",
            "100%|██████████| 1600/1600 [12:53<00:00,  2.07it/s]\n",
            "100%|██████████| 200/200 [00:46<00:00,  4.32it/s]\n",
            "100%|██████████| 1600/1600 [12:53<00:00,  2.07it/s]\n",
            "100%|██████████| 200/200 [00:47<00:00,  4.24it/s]\n",
            "100%|██████████| 1600/1600 [12:58<00:00,  2.05it/s]\n",
            "100%|██████████| 200/200 [00:46<00:00,  4.28it/s]\n",
            "100%|██████████| 1600/1600 [12:58<00:00,  2.06it/s]\n",
            "100%|██████████| 200/200 [00:46<00:00,  4.32it/s]\n"
          ]
        },
        {
          "output_type": "display_data",
          "data": {
            "text/plain": [
              "pytorch_model.bin:   0%|          | 0.00/670M [00:00<?, ?B/s]"
            ],
            "application/vnd.jupyter.widget-view+json": {
              "version_major": 2,
              "version_minor": 0,
              "model_id": "f4d0ff707feb48c9b00048f934dd70c5"
            }
          },
          "metadata": {}
        }
      ]
    },
    {
      "cell_type": "markdown",
      "source": [
        "#Deployment"
      ],
      "metadata": {
        "id": "eNATyPyvvWfv"
      }
    }
  ],
  "metadata": {
    "colab": {
      "provenance": [],
      "machine_shape": "hm",
      "gpuType": "V100"
    },
    "kernelspec": {
      "display_name": "Python 3",
      "name": "python3"
    },
    "language_info": {
      "codemirror_mode": {
        "name": "ipython",
        "version": 3
      },
      "file_extension": ".py",
      "mimetype": "text/x-python",
      "name": "python",
      "nbconvert_exporter": "python",
      "pygments_lexer": "ipython3",
      "version": "3.11.4"
    },
    "accelerator": "GPU",
    "widgets": {
      "application/vnd.jupyter.widget-state+json": {
        "f4d0ff707feb48c9b00048f934dd70c5": {
          "model_module": "@jupyter-widgets/controls",
          "model_name": "HBoxModel",
          "model_module_version": "1.5.0",
          "state": {
            "_dom_classes": [],
            "_model_module": "@jupyter-widgets/controls",
            "_model_module_version": "1.5.0",
            "_model_name": "HBoxModel",
            "_view_count": null,
            "_view_module": "@jupyter-widgets/controls",
            "_view_module_version": "1.5.0",
            "_view_name": "HBoxView",
            "box_style": "",
            "children": [
              "IPY_MODEL_a79407b456364918bb0989f82add4f8a",
              "IPY_MODEL_76f0cfd4ddde4a8693e45109e63b7ca3",
              "IPY_MODEL_26a3ad63ac2c4ac39acd7db58427a7a2"
            ],
            "layout": "IPY_MODEL_156a1dcfcc914975aef043bfcaefa012"
          }
        },
        "a79407b456364918bb0989f82add4f8a": {
          "model_module": "@jupyter-widgets/controls",
          "model_name": "HTMLModel",
          "model_module_version": "1.5.0",
          "state": {
            "_dom_classes": [],
            "_model_module": "@jupyter-widgets/controls",
            "_model_module_version": "1.5.0",
            "_model_name": "HTMLModel",
            "_view_count": null,
            "_view_module": "@jupyter-widgets/controls",
            "_view_module_version": "1.5.0",
            "_view_name": "HTMLView",
            "description": "",
            "description_tooltip": null,
            "layout": "IPY_MODEL_bac1af424bbe4b28b52dc62a0bc000bf",
            "placeholder": "​",
            "style": "IPY_MODEL_22cf1956c1c442088f5cd96f0a001e20",
            "value": "pytorch_model.bin: 100%"
          }
        },
        "76f0cfd4ddde4a8693e45109e63b7ca3": {
          "model_module": "@jupyter-widgets/controls",
          "model_name": "FloatProgressModel",
          "model_module_version": "1.5.0",
          "state": {
            "_dom_classes": [],
            "_model_module": "@jupyter-widgets/controls",
            "_model_module_version": "1.5.0",
            "_model_name": "FloatProgressModel",
            "_view_count": null,
            "_view_module": "@jupyter-widgets/controls",
            "_view_module_version": "1.5.0",
            "_view_name": "ProgressView",
            "bar_style": "success",
            "description": "",
            "description_tooltip": null,
            "layout": "IPY_MODEL_7f547a5ded724031baa5ca7b2e45a1a6",
            "max": 669519281,
            "min": 0,
            "orientation": "horizontal",
            "style": "IPY_MODEL_36c3593344794544bebfa6be6ec318d2",
            "value": 669519281
          }
        },
        "26a3ad63ac2c4ac39acd7db58427a7a2": {
          "model_module": "@jupyter-widgets/controls",
          "model_name": "HTMLModel",
          "model_module_version": "1.5.0",
          "state": {
            "_dom_classes": [],
            "_model_module": "@jupyter-widgets/controls",
            "_model_module_version": "1.5.0",
            "_model_name": "HTMLModel",
            "_view_count": null,
            "_view_module": "@jupyter-widgets/controls",
            "_view_module_version": "1.5.0",
            "_view_name": "HTMLView",
            "description": "",
            "description_tooltip": null,
            "layout": "IPY_MODEL_fa30164d9da24ba0a74bf7eeed636554",
            "placeholder": "​",
            "style": "IPY_MODEL_e356fcb65a7b45f891d58159cec2b47b",
            "value": " 670M/670M [00:29&lt;00:00, 25.3MB/s]"
          }
        },
        "156a1dcfcc914975aef043bfcaefa012": {
          "model_module": "@jupyter-widgets/base",
          "model_name": "LayoutModel",
          "model_module_version": "1.2.0",
          "state": {
            "_model_module": "@jupyter-widgets/base",
            "_model_module_version": "1.2.0",
            "_model_name": "LayoutModel",
            "_view_count": null,
            "_view_module": "@jupyter-widgets/base",
            "_view_module_version": "1.2.0",
            "_view_name": "LayoutView",
            "align_content": null,
            "align_items": null,
            "align_self": null,
            "border": null,
            "bottom": null,
            "display": null,
            "flex": null,
            "flex_flow": null,
            "grid_area": null,
            "grid_auto_columns": null,
            "grid_auto_flow": null,
            "grid_auto_rows": null,
            "grid_column": null,
            "grid_gap": null,
            "grid_row": null,
            "grid_template_areas": null,
            "grid_template_columns": null,
            "grid_template_rows": null,
            "height": null,
            "justify_content": null,
            "justify_items": null,
            "left": null,
            "margin": null,
            "max_height": null,
            "max_width": null,
            "min_height": null,
            "min_width": null,
            "object_fit": null,
            "object_position": null,
            "order": null,
            "overflow": null,
            "overflow_x": null,
            "overflow_y": null,
            "padding": null,
            "right": null,
            "top": null,
            "visibility": null,
            "width": null
          }
        },
        "bac1af424bbe4b28b52dc62a0bc000bf": {
          "model_module": "@jupyter-widgets/base",
          "model_name": "LayoutModel",
          "model_module_version": "1.2.0",
          "state": {
            "_model_module": "@jupyter-widgets/base",
            "_model_module_version": "1.2.0",
            "_model_name": "LayoutModel",
            "_view_count": null,
            "_view_module": "@jupyter-widgets/base",
            "_view_module_version": "1.2.0",
            "_view_name": "LayoutView",
            "align_content": null,
            "align_items": null,
            "align_self": null,
            "border": null,
            "bottom": null,
            "display": null,
            "flex": null,
            "flex_flow": null,
            "grid_area": null,
            "grid_auto_columns": null,
            "grid_auto_flow": null,
            "grid_auto_rows": null,
            "grid_column": null,
            "grid_gap": null,
            "grid_row": null,
            "grid_template_areas": null,
            "grid_template_columns": null,
            "grid_template_rows": null,
            "height": null,
            "justify_content": null,
            "justify_items": null,
            "left": null,
            "margin": null,
            "max_height": null,
            "max_width": null,
            "min_height": null,
            "min_width": null,
            "object_fit": null,
            "object_position": null,
            "order": null,
            "overflow": null,
            "overflow_x": null,
            "overflow_y": null,
            "padding": null,
            "right": null,
            "top": null,
            "visibility": null,
            "width": null
          }
        },
        "22cf1956c1c442088f5cd96f0a001e20": {
          "model_module": "@jupyter-widgets/controls",
          "model_name": "DescriptionStyleModel",
          "model_module_version": "1.5.0",
          "state": {
            "_model_module": "@jupyter-widgets/controls",
            "_model_module_version": "1.5.0",
            "_model_name": "DescriptionStyleModel",
            "_view_count": null,
            "_view_module": "@jupyter-widgets/base",
            "_view_module_version": "1.2.0",
            "_view_name": "StyleView",
            "description_width": ""
          }
        },
        "7f547a5ded724031baa5ca7b2e45a1a6": {
          "model_module": "@jupyter-widgets/base",
          "model_name": "LayoutModel",
          "model_module_version": "1.2.0",
          "state": {
            "_model_module": "@jupyter-widgets/base",
            "_model_module_version": "1.2.0",
            "_model_name": "LayoutModel",
            "_view_count": null,
            "_view_module": "@jupyter-widgets/base",
            "_view_module_version": "1.2.0",
            "_view_name": "LayoutView",
            "align_content": null,
            "align_items": null,
            "align_self": null,
            "border": null,
            "bottom": null,
            "display": null,
            "flex": null,
            "flex_flow": null,
            "grid_area": null,
            "grid_auto_columns": null,
            "grid_auto_flow": null,
            "grid_auto_rows": null,
            "grid_column": null,
            "grid_gap": null,
            "grid_row": null,
            "grid_template_areas": null,
            "grid_template_columns": null,
            "grid_template_rows": null,
            "height": null,
            "justify_content": null,
            "justify_items": null,
            "left": null,
            "margin": null,
            "max_height": null,
            "max_width": null,
            "min_height": null,
            "min_width": null,
            "object_fit": null,
            "object_position": null,
            "order": null,
            "overflow": null,
            "overflow_x": null,
            "overflow_y": null,
            "padding": null,
            "right": null,
            "top": null,
            "visibility": null,
            "width": null
          }
        },
        "36c3593344794544bebfa6be6ec318d2": {
          "model_module": "@jupyter-widgets/controls",
          "model_name": "ProgressStyleModel",
          "model_module_version": "1.5.0",
          "state": {
            "_model_module": "@jupyter-widgets/controls",
            "_model_module_version": "1.5.0",
            "_model_name": "ProgressStyleModel",
            "_view_count": null,
            "_view_module": "@jupyter-widgets/base",
            "_view_module_version": "1.2.0",
            "_view_name": "StyleView",
            "bar_color": null,
            "description_width": ""
          }
        },
        "fa30164d9da24ba0a74bf7eeed636554": {
          "model_module": "@jupyter-widgets/base",
          "model_name": "LayoutModel",
          "model_module_version": "1.2.0",
          "state": {
            "_model_module": "@jupyter-widgets/base",
            "_model_module_version": "1.2.0",
            "_model_name": "LayoutModel",
            "_view_count": null,
            "_view_module": "@jupyter-widgets/base",
            "_view_module_version": "1.2.0",
            "_view_name": "LayoutView",
            "align_content": null,
            "align_items": null,
            "align_self": null,
            "border": null,
            "bottom": null,
            "display": null,
            "flex": null,
            "flex_flow": null,
            "grid_area": null,
            "grid_auto_columns": null,
            "grid_auto_flow": null,
            "grid_auto_rows": null,
            "grid_column": null,
            "grid_gap": null,
            "grid_row": null,
            "grid_template_areas": null,
            "grid_template_columns": null,
            "grid_template_rows": null,
            "height": null,
            "justify_content": null,
            "justify_items": null,
            "left": null,
            "margin": null,
            "max_height": null,
            "max_width": null,
            "min_height": null,
            "min_width": null,
            "object_fit": null,
            "object_position": null,
            "order": null,
            "overflow": null,
            "overflow_x": null,
            "overflow_y": null,
            "padding": null,
            "right": null,
            "top": null,
            "visibility": null,
            "width": null
          }
        },
        "e356fcb65a7b45f891d58159cec2b47b": {
          "model_module": "@jupyter-widgets/controls",
          "model_name": "DescriptionStyleModel",
          "model_module_version": "1.5.0",
          "state": {
            "_model_module": "@jupyter-widgets/controls",
            "_model_module_version": "1.5.0",
            "_model_name": "DescriptionStyleModel",
            "_view_count": null,
            "_view_module": "@jupyter-widgets/base",
            "_view_module_version": "1.2.0",
            "_view_name": "StyleView",
            "description_width": ""
          }
        }
      }
    }
  },
  "nbformat": 4,
  "nbformat_minor": 0
}